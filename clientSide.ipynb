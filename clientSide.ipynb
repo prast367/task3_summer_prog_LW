{
 "cells": [
  {
   "cell_type": "code",
   "execution_count": 1,
   "id": "9ef9aab6",
   "metadata": {},
   "outputs": [],
   "source": [
    "import cv2, socket, pickle, struct"
   ]
  },
  {
   "cell_type": "code",
   "execution_count": null,
   "id": "fcbe415e",
   "metadata": {},
   "outputs": [],
   "source": [
    "Client_socket = socket.socket(socket.AF_INET,socket.SOCK_STREAM)\n",
    "port = 9999\n",
    "host_ip= '192.168.56.1'\n",
    "Client_socket.connect((host_ip,port))\n",
    "data = b\"\"\n",
    "payload_size = struct.calcsize(\"Q\")\n",
    "while True:\n",
    "    while len(data) < payload_size:\n",
    "        packet = Client_socket.recv(4*1024)\n",
    "        if not packet: break\n",
    "        data+=packet\n",
    "    packed_msg_size = data[:payload_size]\n",
    "    data = data[payload_size:]\n",
    "    msg_size = struct.unpack(\"Q\",packed_msg_size)[0]\n",
    "    \n",
    "    while len(data) < msg_size:\n",
    "        data +=Client_socket.recv(4*1024)\n",
    "    frame_data = data[:msg_size]\n",
    "    frame = pickle.loads(frame_data)\n",
    "    cv2.imshow(\"client\",frame)\n",
    "    key = cv2.waitKey(1) & 0xff\n",
    "    \n",
    "    if key == ord('q'):\n",
    "        break\n",
    "Client_socket.close()        \n",
    "        "
   ]
  },
  {
   "cell_type": "code",
   "execution_count": null,
   "id": "900871f5",
   "metadata": {},
   "outputs": [],
   "source": []
  }
 ],
 "metadata": {
  "kernelspec": {
   "display_name": "Python 3",
   "language": "python",
   "name": "python3"
  },
  "language_info": {
   "codemirror_mode": {
    "name": "ipython",
    "version": 3
   },
   "file_extension": ".py",
   "mimetype": "text/x-python",
   "name": "python",
   "nbconvert_exporter": "python",
   "pygments_lexer": "ipython3",
   "version": "3.8.8"
  }
 },
 "nbformat": 4,
 "nbformat_minor": 5
}
