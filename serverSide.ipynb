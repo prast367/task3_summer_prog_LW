{
 "cells": [
  {
   "cell_type": "code",
   "execution_count": 1,
   "id": "7db7e3b7",
   "metadata": {},
   "outputs": [],
   "source": [
    "import socket\n",
    "import cv2\n",
    "import pickle\n",
    "import struct"
   ]
  },
  {
   "cell_type": "code",
   "execution_count": 2,
   "id": "108c99c6",
   "metadata": {},
   "outputs": [
    {
     "name": "stdout",
     "output_type": "stream",
     "text": [
      "Socket successfully created\n"
     ]
    }
   ],
   "source": [
    "try: \n",
    "    s = socket.socket(socket.AF_INET, socket.SOCK_STREAM) \n",
    "    print (\"Socket successfully created\")\n",
    "except socket.error as err: \n",
    "    print (\"socket creation failed with error %s\" %(err))"
   ]
  },
  {
   "cell_type": "code",
   "execution_count": 3,
   "id": "172ae610",
   "metadata": {},
   "outputs": [
    {
     "name": "stdout",
     "output_type": "stream",
     "text": [
      "listening on ('192.168.56.1', 9999)\n"
     ]
    }
   ],
   "source": [
    "port = 9999\n",
    "address = ('192.168.56.1',port)\n",
    "s.bind(address)\n",
    "s.listen(5)\n",
    "print('listening on',address)"
   ]
  },
  {
   "cell_type": "code",
   "execution_count": null,
   "id": "92e2efd9",
   "metadata": {},
   "outputs": [
    {
     "name": "stdout",
     "output_type": "stream",
     "text": [
      "connection from ('192.168.56.1', 52550)\n"
     ]
    }
   ],
   "source": [
    "while True:\n",
    "    client_socket,addr = s.accept()\n",
    "    print(\"connection from\",addr)\n",
    "    if client_socket:\n",
    "        vid = cv2.VideoCapture(0)\n",
    "        \n",
    "        while(vid.isOpened()):\n",
    "            img,frame = vid.read()\n",
    "            a = pickle.dumps(frame)\n",
    "            message = struct.pack(\"Q\",len(a)) + a\n",
    "            client_socket.sendall(message)\n",
    "            \n",
    "            cv2.imshow('serverSide',frame)\n",
    "            key = cv2.waitKey(1) & 0xff\n",
    "            \n",
    "            if key == ord('q'):\n",
    "                client_socket.close()\n",
    "                break\n",
    "                "
   ]
  },
  {
   "cell_type": "code",
   "execution_count": null,
   "id": "9f368608",
   "metadata": {},
   "outputs": [],
   "source": [
    "\n"
   ]
  },
  {
   "cell_type": "code",
   "execution_count": null,
   "id": "c91452fa",
   "metadata": {},
   "outputs": [],
   "source": []
  }
 ],
 "metadata": {
  "kernelspec": {
   "display_name": "Python 3",
   "language": "python",
   "name": "python3"
  },
  "language_info": {
   "codemirror_mode": {
    "name": "ipython",
    "version": 3
   },
   "file_extension": ".py",
   "mimetype": "text/x-python",
   "name": "python",
   "nbconvert_exporter": "python",
   "pygments_lexer": "ipython3",
   "version": "3.8.8"
  }
 },
 "nbformat": 4,
 "nbformat_minor": 5
}
